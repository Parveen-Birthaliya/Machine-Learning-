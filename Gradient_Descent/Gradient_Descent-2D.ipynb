{
 "cells": [
  {
   "cell_type": "markdown",
   "id": "b0182ae7-30f9-4fec-99c3-17c1648d8541",
   "metadata": {},
   "source": [
    "## Gradient Descent (GD):\n",
    "It’s an optimization algorithm used to minimize a loss function by iteratively updating parameters in the opposite direction of the gradient. Core idea: move step-by-step towards the global or local minimum."
   ]
  },
  {
   "cell_type": "code",
   "execution_count": 240,
   "id": "703a9500-f8f1-4924-83f9-9800dce92a81",
   "metadata": {},
   "outputs": [],
   "source": [
    "import pandas as pd \n",
    "\n",
    "import numpy as np \n",
    "from sklearn.datasets import make_regression"
   ]
  },
  {
   "cell_type": "code",
   "execution_count": 241,
   "id": "f09e41b0-a905-457a-87f8-760233da8079",
   "metadata": {},
   "outputs": [],
   "source": [
    "X,y = make_regression(n_samples=4,n_features=1, n_informative=1, n_targets=1, noise=80, random_state=13)"
   ]
  },
  {
   "cell_type": "code",
   "execution_count": null,
   "id": "c8dd7ee3-0e9e-4426-9ff3-bb021cf16d09",
   "metadata": {},
   "outputs": [],
   "source": []
  },
  {
   "cell_type": "code",
   "execution_count": 242,
   "id": "01ba7dbb-140e-40ca-8f6c-56f35803e0a2",
   "metadata": {},
   "outputs": [],
   "source": [
    "import matplotlib.pyplot as plt "
   ]
  },
  {
   "cell_type": "code",
   "execution_count": 243,
   "id": "a3b3631f-9dbe-4ba6-a59a-091edcb743ad",
   "metadata": {},
   "outputs": [
    {
     "data": {
      "text/plain": [
       "<matplotlib.collections.PathCollection at 0x7770221d39d0>"
      ]
     },
     "execution_count": 243,
     "metadata": {},
     "output_type": "execute_result"
    },
    {
     "data": {
      "image/png": "[encoded data removed]",
      "text/plain": [
       "<Figure size 640x480 with 1 Axes>"
      ]
     },
     "metadata": {},
     "output_type": "display_data"
    }
   ],
   "source": [
    "plt.scatter(X,y)"
   ]
  },
  {
   "cell_type": "markdown",
   "id": "f63200dc-1e36-4b22-b3e8-6854ce2fb4d4",
   "metadata": {},
   "source": [
    "# First Lets apply OLS"
   ]
  },
  {
   "cell_type": "code",
   "execution_count": 244,
   "id": "c670d43a-0108-4f24-a83c-5713d333201a",
   "metadata": {},
   "outputs": [],
   "source": [
    "from sklearn.linear_model import LinearRegression\n",
    "reg = LinearRegression()"
   ]
  },
  {
   "cell_type": "code",
   "execution_count": 245,
   "id": "d326ce63-4bca-4a53-a4cd-a3c924ff9ccd",
   "metadata": {},
   "outputs": [
    {
     "data": {
      "text/html": [
       "<style>#sk-container-id-6 {\n",
       "  /* Definition of color scheme common for light and dark mode */\n",
       "  --sklearn-color-text: #000;\n",
       "  --sklearn-color-text-muted: #666;\n",
       "  --sklearn-color-line: gray;\n",
       "  /* Definition of color scheme for unfitted estimators */\n",
       "  --sklearn-color-unfitted-level-0: #fff5e6;\n",
       "  --sklearn-color-unfitted-level-1: #f6e4d2;\n",
       "  --sklearn-color-unfitted-level-2: #ffe0b3;\n",
       "  --sklearn-color-unfitted-level-3: chocolate;\n",
       "  /* Definition of color scheme for fitted estimators */\n",
       "  --sklearn-color-fitted-level-0: #f0f8ff;\n",
       "  --sklearn-color-fitted-level-1: #d4ebff;\n",
       "  --sklearn-color-fitted-level-2: #b3dbfd;\n",
       "  --sklearn-color-fitted-level-3: cornflowerblue;\n",
       "\n",
       "  /* Specific color for light theme */\n",
       "  --sklearn-color-text-on-default-background: var(--sg-text-color, var(--theme-code-foreground, var(--jp-content-font-color1, black)));\n",
       "  --sklearn-color-background: var(--sg-background-color, var(--theme-background, var(--jp-layout-color0, white)));\n",
       "  --sklearn-color-border-box: var(--sg-text-color, var(--theme-code-foreground, var(--jp-content-font-color1, black)));\n",
       "  --sklearn-color-icon: #696969;\n",
       "\n",
       "  @media (prefers-color-scheme: dark) {\n",
       "    /* Redefinition of color scheme for dark theme */\n",
       "    --sklearn-color-text-on-default-background: var(--sg-text-color, var(--theme-code-foreground, var(--jp-content-font-color1, white)));\n",
       "    --sklearn-color-background: var(--sg-background-color, var(--theme-background, var(--jp-layout-color0, #111)));\n",
       "    --sklearn-color-border-box: var(--sg-text-color, var(--theme-code-foreground, var(--jp-content-font-color1, white)));\n",
       "    --sklearn-color-icon: #878787;\n",
       "  }\n",
       "}\n",
       "\n",
       "#sk-container-id-6 {\n",
       "  color: var(--sklearn-color-text);\n",
       "}\n",
       "\n",
       "#sk-container-id-6 pre {\n",
       "  padding: 0;\n",
       "}\n",
       "\n",
       "#sk-container-id-6 input.sk-hidden--visually {\n",
       "  border: 0;\n",
       "  clip: rect(1px 1px 1px 1px);\n",
       "  clip: rect(1px, 1px, 1px, 1px);\n",
       "  height: 1px;\n",
       "  margin: -1px;\n",
       "  overflow: hidden;\n",
       "  padding: 0;\n",
       "  position: absolute;\n",
       "  width: 1px;\n",
       "}\n",
       "\n",
       "#sk-container-id-6 div.sk-dashed-wrapped {\n",
       "  border: 1px dashed var(--sklearn-color-line);\n",
       "  margin: 0 0.4em 0.5em 0.4em;\n",
       "  box-sizing: border-box;\n",
       "  padding-bottom: 0.4em;\n",
       "  background-color: var(--sklearn-color-background);\n",
       "}\n",
       "\n",
       "#sk-container-id-6 div.sk-container {\n",
       "  /* jupyter's `normalize.less` sets `[hidden] { display: none; }`\n",
       "     but bootstrap.min.css set `[hidden] { display: none !important; }`\n",
       "     so we also need the `!important` here to be able to override the\n",
       "     default hidden behavior on the sphinx rendered scikit-learn.org.\n",
       "     See: https://github.com/scikit-learn/scikit-learn/issues/21755 */\n",
       "  display: inline-block !important;\n",
       "  position: relative;\n",
       "}\n",
       "\n",
       "#sk-container-id-6 div.sk-text-repr-fallback {\n",
       "  display: none;\n",
       "}\n",
       "\n",
       "div.sk-parallel-item,\n",
       "div.sk-serial,\n",
       "div.sk-item {\n",
       "  /* draw centered vertical line to link estimators */\n",
       "  background-image: linear-gradient(var(--sklearn-color-text-on-default-background), var(--sklearn-color-text-on-default-background));\n",
       "  background-size: 2px 100%;\n",
       "  background-repeat: no-repeat;\n",
       "  background-position: center center;\n",
       "}\n",
       "\n",
       "/* Parallel-specific style estimator block */\n",
       "\n",
       "#sk-container-id-6 div.sk-parallel-item::after {\n",
       "  content: \"\";\n",
       "  width: 100%;\n",
       "  border-bottom: 2px solid var(--sklearn-color-text-on-default-background);\n",
       "  flex-grow: 1;\n",
       "}\n",
       "\n",
       "#sk-container-id-6 div.sk-parallel {\n",
       "  display: flex;\n",
       "  align-items: stretch;\n",
       "  justify-content: center;\n",
       "  background-color: var(--sklearn-color-background);\n",
       "  position: relative;\n",
       "}\n",
       "\n",
       "#sk-container-id-6 div.sk-parallel-item {\n",
       "  display: flex;\n",
       "  flex-direction: column;\n",
       "}\n",
       "\n",
       "#sk-container-id-6 div.sk-parallel-item:first-child::after {\n",
       "  align-self: flex-end;\n",
       "  width: 50%;\n",
       "}\n",
       "\n",
       "#sk-container-id-6 div.sk-parallel-item:last-child::after {\n",
       "  align-self: flex-start;\n",
       "  width: 50%;\n",
       "}\n",
       "\n",
       "#sk-container-id-6 div.sk-parallel-item:only-child::after {\n",
       "  width: 0;\n",
       "}\n",
       "\n",
       "/* Serial-specific style estimator block */\n",
       "\n",
       "#sk-container-id-6 div.sk-serial {\n",
       "  display: flex;\n",
       "  flex-direction: column;\n",
       "  align-items: center;\n",
       "  background-color: var(--sklearn-color-background);\n",
       "  padding-right: 1em;\n",
       "  padding-left: 1em;\n",
       "}\n",
       "\n",
       "\n",
       "/* Toggleable style: style used for estimator/Pipeline/ColumnTransformer box that is\n",
       "clickable and can be expanded/collapsed.\n",
       "- Pipeline and ColumnTransformer use this feature and define the default style\n",
       "- Estimators will overwrite some part of the style using the `sk-estimator` class\n",
       "*/\n",
       "\n",
       "/* Pipeline and ColumnTransformer style (default) */\n",
       "\n",
       "#sk-container-id-6 div.sk-toggleable {\n",
       "  /* Default theme specific background. It is overwritten whether we have a\n",
       "  specific estimator or a Pipeline/ColumnTransformer */\n",
       "  background-color: var(--sklearn-color-background);\n",
       "}\n",
       "\n",
       "/* Toggleable label */\n",
       "#sk-container-id-6 label.sk-toggleable__label {\n",
       "  cursor: pointer;\n",
       "  display: flex;\n",
       "  width: 100%;\n",
       "  margin-bottom: 0;\n",
       "  padding: 0.5em;\n",
       "  box-sizing: border-box;\n",
       "  text-align: center;\n",
       "  align-items: start;\n",
       "  justify-content: space-between;\n",
       "  gap: 0.5em;\n",
       "}\n",
       "\n",
       "#sk-container-id-6 label.sk-toggleable__label .caption {\n",
       "  font-size: 0.6rem;\n",
       "  font-weight: lighter;\n",
       "  color: var(--sklearn-color-text-muted);\n",
       "}\n",
       "\n",
       "#sk-container-id-6 label.sk-toggleable__label-arrow:before {\n",
       "  /* Arrow on the left of the label */\n",
       "  content: \"▸\";\n",
       "  float: left;\n",
       "  margin-right: 0.25em;\n",
       "  color: var(--sklearn-color-icon);\n",
       "}\n",
       "\n",
       "#sk-container-id-6 label.sk-toggleable__label-arrow:hover:before {\n",
       "  color: var(--sklearn-color-text);\n",
       "}\n",
       "\n",
       "/* Toggleable content - dropdown */\n",
       "\n",
       "#sk-container-id-6 div.sk-toggleable__content {\n",
       "  max-height: 0;\n",
       "  max-width: 0;\n",
       "  overflow: hidden;\n",
       "  text-align: left;\n",
       "  /* unfitted */\n",
       "  background-color: var(--sklearn-color-unfitted-level-0);\n",
       "}\n",
       "\n",
       "#sk-container-id-6 div.sk-toggleable__content.fitted {\n",
       "  /* fitted */\n",
       "  background-color: var(--sklearn-color-fitted-level-0);\n",
       "}\n",
       "\n",
       "#sk-container-id-6 div.sk-toggleable__content pre {\n",
       "  margin: 0.2em;\n",
       "  border-radius: 0.25em;\n",
       "  color: var(--sklearn-color-text);\n",
       "  /* unfitted */\n",
       "  background-color: var(--sklearn-color-unfitted-level-0);\n",
       "}\n",
       "\n",
       "#sk-container-id-6 div.sk-toggleable__content.fitted pre {\n",
       "  /* unfitted */\n",
       "  background-color: var(--sklearn-color-fitted-level-0);\n",
       "}\n",
       "\n",
       "#sk-container-id-6 input.sk-toggleable__control:checked~div.sk-toggleable__content {\n",
       "  /* Expand drop-down */\n",
       "  max-height: 200px;\n",
       "  max-width: 100%;\n",
       "  overflow: auto;\n",
       "}\n",
       "\n",
       "#sk-container-id-6 input.sk-toggleable__control:checked~label.sk-toggleable__label-arrow:before {\n",
       "  content: \"▾\";\n",
       "}\n",
       "\n",
       "/* Pipeline/ColumnTransformer-specific style */\n",
       "\n",
       "#sk-container-id-6 div.sk-label input.sk-toggleable__control:checked~label.sk-toggleable__label {\n",
       "  color: var(--sklearn-color-text);\n",
       "  background-color: var(--sklearn-color-unfitted-level-2);\n",
       "}\n",
       "\n",
       "#sk-container-id-6 div.sk-label.fitted input.sk-toggleable__control:checked~label.sk-toggleable__label {\n",
       "  background-color: var(--sklearn-color-fitted-level-2);\n",
       "}\n",
       "\n",
       "/* Estimator-specific style */\n",
       "\n",
       "/* Colorize estimator box */\n",
       "#sk-container-id-6 div.sk-estimator input.sk-toggleable__control:checked~label.sk-toggleable__label {\n",
       "  /* unfitted */\n",
       "  background-color: var(--sklearn-color-unfitted-level-2);\n",
       "}\n",
       "\n",
       "#sk-container-id-6 div.sk-estimator.fitted input.sk-toggleable__control:checked~label.sk-toggleable__label {\n",
       "  /* fitted */\n",
       "  background-color: var(--sklearn-color-fitted-level-2);\n",
       "}\n",
       "\n",
       "#sk-container-id-6 div.sk-label label.sk-toggleable__label,\n",
       "#sk-container-id-6 div.sk-label label {\n",
       "  /* The background is the default theme color */\n",
       "  color: var(--sklearn-color-text-on-default-background);\n",
       "}\n",
       "\n",
       "/* On hover, darken the color of the background */\n",
       "#sk-container-id-6 div.sk-label:hover label.sk-toggleable__label {\n",
       "  color: var(--sklearn-color-text);\n",
       "  background-color: var(--sklearn-color-unfitted-level-2);\n",
       "}\n",
       "\n",
       "/* Label box, darken color on hover, fitted */\n",
       "#sk-container-id-6 div.sk-label.fitted:hover label.sk-toggleable__label.fitted {\n",
       "  color: var(--sklearn-color-text);\n",
       "  background-color: var(--sklearn-color-fitted-level-2);\n",
       "}\n",
       "\n",
       "/* Estimator label */\n",
       "\n",
       "#sk-container-id-6 div.sk-label label {\n",
       "  font-family: monospace;\n",
       "  font-weight: bold;\n",
       "  display: inline-block;\n",
       "  line-height: 1.2em;\n",
       "}\n",
       "\n",
       "#sk-container-id-6 div.sk-label-container {\n",
       "  text-align: center;\n",
       "}\n",
       "\n",
       "/* Estimator-specific */\n",
       "#sk-container-id-6 div.sk-estimator {\n",
       "  font-family: monospace;\n",
       "  border: 1px dotted var(--sklearn-color-border-box);\n",
       "  border-radius: 0.25em;\n",
       "  box-sizing: border-box;\n",
       "  margin-bottom: 0.5em;\n",
       "  /* unfitted */\n",
       "  background-color: var(--sklearn-color-unfitted-level-0);\n",
       "}\n",
       "\n",
       "#sk-container-id-6 div.sk-estimator.fitted {\n",
       "  /* fitted */\n",
       "  background-color: var(--sklearn-color-fitted-level-0);\n",
       "}\n",
       "\n",
       "/* on hover */\n",
       "#sk-container-id-6 div.sk-estimator:hover {\n",
       "  /* unfitted */\n",
       "  background-color: var(--sklearn-color-unfitted-level-2);\n",
       "}\n",
       "\n",
       "#sk-container-id-6 div.sk-estimator.fitted:hover {\n",
       "  /* fitted */\n",
       "  background-color: var(--sklearn-color-fitted-level-2);\n",
       "}\n",
       "\n",
       "/* Specification for estimator info (e.g. \"i\" and \"?\") */\n",
       "\n",
       "/* Common style for \"i\" and \"?\" */\n",
       "\n",
       ".sk-estimator-doc-link,\n",
       "a:link.sk-estimator-doc-link,\n",
       "a:visited.sk-estimator-doc-link {\n",
       "  float: right;\n",
       "  font-size: smaller;\n",
       "  line-height: 1em;\n",
       "  font-family: monospace;\n",
       "  background-color: var(--sklearn-color-background);\n",
       "  border-radius: 1em;\n",
       "  height: 1em;\n",
       "  width: 1em;\n",
       "  text-decoration: none !important;\n",
       "  margin-left: 0.5em;\n",
       "  text-align: center;\n",
       "  /* unfitted */\n",
       "  border: var(--sklearn-color-unfitted-level-1) 1pt solid;\n",
       "  color: var(--sklearn-color-unfitted-level-1);\n",
       "}\n",
       "\n",
       ".sk-estimator-doc-link.fitted,\n",
       "a:link.sk-estimator-doc-link.fitted,\n",
       "a:visited.sk-estimator-doc-link.fitted {\n",
       "  /* fitted */\n",
       "  border: var(--sklearn-color-fitted-level-1) 1pt solid;\n",
       "  color: var(--sklearn-color-fitted-level-1);\n",
       "}\n",
       "\n",
       "/* On hover */\n",
       "div.sk-estimator:hover .sk-estimator-doc-link:hover,\n",
       ".sk-estimator-doc-link:hover,\n",
       "div.sk-label-container:hover .sk-estimator-doc-link:hover,\n",
       ".sk-estimator-doc-link:hover {\n",
       "  /* unfitted */\n",
       "  background-color: var(--sklearn-color-unfitted-level-3);\n",
       "  color: var(--sklearn-color-background);\n",
       "  text-decoration: none;\n",
       "}\n",
       "\n",
       "div.sk-estimator.fitted:hover .sk-estimator-doc-link.fitted:hover,\n",
       ".sk-estimator-doc-link.fitted:hover,\n",
       "div.sk-label-container:hover .sk-estimator-doc-link.fitted:hover,\n",
       ".sk-estimator-doc-link.fitted:hover {\n",
       "  /* fitted */\n",
       "  background-color: var(--sklearn-color-fitted-level-3);\n",
       "  color: var(--sklearn-color-background);\n",
       "  text-decoration: none;\n",
       "}\n",
       "\n",
       "/* Span, style for the box shown on hovering the info icon */\n",
       ".sk-estimator-doc-link span {\n",
       "  display: none;\n",
       "  z-index: 9999;\n",
       "  position: relative;\n",
       "  font-weight: normal;\n",
       "  right: .2ex;\n",
       "  padding: .5ex;\n",
       "  margin: .5ex;\n",
       "  width: min-content;\n",
       "  min-width: 20ex;\n",
       "  max-width: 50ex;\n",
       "  color: var(--sklearn-color-text);\n",
       "  box-shadow: 2pt 2pt 4pt #999;\n",
       "  /* unfitted */\n",
       "  background: var(--sklearn-color-unfitted-level-0);\n",
       "  border: .5pt solid var(--sklearn-color-unfitted-level-3);\n",
       "}\n",
       "\n",
       ".sk-estimator-doc-link.fitted span {\n",
       "  /* fitted */\n",
       "  background: var(--sklearn-color-fitted-level-0);\n",
       "  border: var(--sklearn-color-fitted-level-3);\n",
       "}\n",
       "\n",
       ".sk-estimator-doc-link:hover span {\n",
       "  display: block;\n",
       "}\n",
       "\n",
       "/* \"?\"-specific style due to the `<a>` HTML tag */\n",
       "\n",
       "#sk-container-id-6 a.estimator_doc_link {\n",
       "  float: right;\n",
       "  font-size: 1rem;\n",
       "  line-height: 1em;\n",
       "  font-family: monospace;\n",
       "  background-color: var(--sklearn-color-background);\n",
       "  border-radius: 1rem;\n",
       "  height: 1rem;\n",
       "  width: 1rem;\n",
       "  text-decoration: none;\n",
       "  /* unfitted */\n",
       "  color: var(--sklearn-color-unfitted-level-1);\n",
       "  border: var(--sklearn-color-unfitted-level-1) 1pt solid;\n",
       "}\n",
       "\n",
       "#sk-container-id-6 a.estimator_doc_link.fitted {\n",
       "  /* fitted */\n",
       "  border: var(--sklearn-color-fitted-level-1) 1pt solid;\n",
       "  color: var(--sklearn-color-fitted-level-1);\n",
       "}\n",
       "\n",
       "/* On hover */\n",
       "#sk-container-id-6 a.estimator_doc_link:hover {\n",
       "  /* unfitted */\n",
       "  background-color: var(--sklearn-color-unfitted-level-3);\n",
       "  color: var(--sklearn-color-background);\n",
       "  text-decoration: none;\n",
       "}\n",
       "\n",
       "#sk-container-id-6 a.estimator_doc_link.fitted:hover {\n",
       "  /* fitted */\n",
       "  background-color: var(--sklearn-color-fitted-level-3);\n",
       "}\n",
       "</style><div id=\"sk-container-id-6\" class=\"sk-top-container\"><div class=\"sk-text-repr-fallback\"><pre>LinearRegression()</pre><b>In a Jupyter environment, please rerun this cell to show the HTML representation or trust the notebook. <br />On GitHub, the HTML representation is unable to render, please try loading this page with nbviewer.org.</b></div><div class=\"sk-container\" hidden><div class=\"sk-item\"><div class=\"sk-estimator fitted sk-toggleable\"><input class=\"sk-toggleable__control sk-hidden--visually\" id=\"sk-estimator-id-6\" type=\"checkbox\" checked><label for=\"sk-estimator-id-6\" class=\"sk-toggleable__label fitted sk-toggleable__label-arrow\"><div><div>LinearRegression</div></div><div><a class=\"sk-estimator-doc-link fitted\" rel=\"noreferrer\" target=\"_blank\" href=\"https://scikit-learn.org/1.6/modules/generated/sklearn.linear_model.LinearRegression.html\">?<span>Documentation for LinearRegression</span></a><span class=\"sk-estimator-doc-link fitted\">i<span>Fitted</span></span></div></label><div class=\"sk-toggleable__content fitted\"><pre>LinearRegression()</pre></div> </div></div></div></div>"
      ],
      "text/plain": [
       "LinearRegression()"
      ]
     },
     "execution_count": 245,
     "metadata": {},
     "output_type": "execute_result"
    }
   ],
   "source": [
    "reg.fit(X,y)"
   ]
  },
  {
   "cell_type": "code",
   "execution_count": 246,
   "id": "f7c4be30-1292-4a21-9901-0713c8676940",
   "metadata": {},
   "outputs": [
    {
     "data": {
      "text/plain": [
       "array([78.35063668])"
      ]
     },
     "execution_count": 246,
     "metadata": {},
     "output_type": "execute_result"
    }
   ],
   "source": [
    "reg.coef_"
   ]
  },
  {
   "cell_type": "code",
   "execution_count": 247,
   "id": "1f665d9f-e98e-464e-a61b-f8970002ee1e",
   "metadata": {},
   "outputs": [
    {
     "data": {
      "text/plain": [
       "np.float64(26.15963284313262)"
      ]
     },
     "execution_count": 247,
     "metadata": {},
     "output_type": "execute_result"
    }
   ],
   "source": [
    "reg.intercept_"
   ]
  },
  {
   "cell_type": "markdown",
   "id": "42914ffc-b2f9-4b68-ade3-120bfe3a78f9",
   "metadata": {},
   "source": [
    "# Now with Gradient Descent"
   ]
  },
  {
   "cell_type": "code",
   "execution_count": 210,
   "id": "0a5a4c61-bd0f-4f34-ba3a-dbd6a3be52ed",
   "metadata": {},
   "outputs": [],
   "source": [
    "pred_y = ((78.35*X) + 0).reshape(4) \n",
    "# m = 78.34 and b= 0 for starting \n",
    "# .reshape makes (4,1) to (4,) \n",
    "# most loss functions (like MSE) expect (n,)\n",
    "# because of array shape mismatch"
   ]
  },
  {
   "cell_type": "code",
   "execution_count": 211,
   "id": "c7cbcfb5-5d68-427c-84fa-bb05e3c5ea23",
   "metadata": {},
   "outputs": [
    {
     "data": {
      "text/plain": [
       "(4,)"
      ]
     },
     "execution_count": 211,
     "metadata": {},
     "output_type": "execute_result"
    }
   ],
   "source": [
    "pred_y.shape"
   ]
  },
  {
   "cell_type": "code",
   "execution_count": 212,
   "id": "b5136707-12b5-4b62-8c99-949f41ebc55c",
   "metadata": {},
   "outputs": [
    {
     "data": {
      "image/png": "[encoded data removed]",
      "text/plain": [
       "<Figure size 640x480 with 1 Axes>"
      ]
     },
     "metadata": {},
     "output_type": "display_data"
    }
   ],
   "source": [
    "plt.scatter(X,y)\n",
    "plt.plot(X, reg.predict(X),color= 'red',label ='OLS')\n",
    "plt.plot(X,pred_y, color = 'green', label = 'b=0')\n",
    "plt.legend()\n",
    "plt.show()"
   ]
  },
  {
   "cell_type": "code",
   "execution_count": 213,
   "id": "872a8b3d-3633-43e8-ae47-1dea38241420",
   "metadata": {},
   "outputs": [
    {
     "data": {
      "text/plain": [
       "np.float64(25.95042662617943)"
      ]
     },
     "execution_count": 213,
     "metadata": {},
     "output_type": "execute_result"
    }
   ],
   "source": [
    "b"
   ]
  },
  {
   "cell_type": "markdown",
   "id": "d9a3df15-30bc-4e7e-9824-8cab897c45db",
   "metadata": {},
   "source": [
    "# First iteration"
   ]
  },
  {
   "cell_type": "code",
   "execution_count": 214,
   "id": "3f5d7619-8739-4b79-a547-143575e1bcbe",
   "metadata": {},
   "outputs": [
    {
     "data": {
      "text/plain": [
       "np.float64(-209.27763408209216)"
      ]
     },
     "execution_count": 214,
     "metadata": {},
     "output_type": "execute_result"
    }
   ],
   "source": [
    "m = 78.35\n",
    "lr = 0.1\n",
    "b = 0\n",
    "loss_slope =-2*np.sum(y -m*X.ravel() - b)\n",
    "loss_slope"
   ]
  },
  {
   "cell_type": "code",
   "execution_count": 215,
   "id": "9117d137-ef4a-4349-9f62-cc2d64cc3bd6",
   "metadata": {},
   "outputs": [],
   "source": [
    "step_size = loss_slope * lr"
   ]
  },
  {
   "cell_type": "code",
   "execution_count": 216,
   "id": "6d49e7cf-0c80-4418-aadd-458503359b78",
   "metadata": {},
   "outputs": [
    {
     "data": {
      "text/plain": [
       "np.float64(-20.927763408209216)"
      ]
     },
     "execution_count": 216,
     "metadata": {},
     "output_type": "execute_result"
    }
   ],
   "source": [
    "step_size"
   ]
  },
  {
   "cell_type": "code",
   "execution_count": 217,
   "id": "2bf55dc7-549d-425d-8183-cafa0506cfbf",
   "metadata": {},
   "outputs": [
    {
     "data": {
      "text/plain": [
       "np.float64(20.927763408209216)"
      ]
     },
     "execution_count": 217,
     "metadata": {},
     "output_type": "execute_result"
    }
   ],
   "source": [
    "b = b - step_size\n",
    "b1 = b\n",
    "b"
   ]
  },
  {
   "cell_type": "code",
   "execution_count": 218,
   "id": "6c9b315c-8822-4bac-84fe-f5a6de196e18",
   "metadata": {},
   "outputs": [],
   "source": [
    "y_pred1= ((78.35*X) +b).reshape(4)"
   ]
  },
  {
   "cell_type": "code",
   "execution_count": 219,
   "id": "99bd0641-5688-4cd6-b9a2-30701a1a3f1f",
   "metadata": {},
   "outputs": [
    {
     "data": {
      "image/png": "[encoded data removed]",
      "text/plain": [
       "<Figure size 640x480 with 1 Axes>"
      ]
     },
     "metadata": {},
     "output_type": "display_data"
    }
   ],
   "source": [
    "plt.scatter(X,y)\n",
    "plt.plot(X, reg.predict(X),color= 'red',label ='OLS')\n",
    "plt.plot(X,pred_y, color = 'green', label = 'b=0')\n",
    "plt.plot(X,y_pred1,color = 'blue', label = 'b = {}'.format(b))\n",
    "plt.legend()\n",
    "plt.show()"
   ]
  },
  {
   "cell_type": "markdown",
   "id": "3f61128a-0cc0-4a26-9bdc-755b89f273eb",
   "metadata": {},
   "source": [
    "# Iteration 2nd"
   ]
  },
  {
   "cell_type": "code",
   "execution_count": 220,
   "id": "0c166e06-fb21-4308-9a6d-22ffa37ddbf1",
   "metadata": {},
   "outputs": [
    {
     "data": {
      "text/plain": [
       "np.float64(25.11331608985106)"
      ]
     },
     "execution_count": 220,
     "metadata": {},
     "output_type": "execute_result"
    }
   ],
   "source": [
    "loss_slope =-2*np.sum(y -m*X.ravel() - b)\n",
    "step_size = loss_slope * lr\n",
    "b = b - step_size\n",
    "y_pred2= ((78.35*X) +b).reshape(4)\n",
    "b2= b\n",
    "b"
   ]
  },
  {
   "cell_type": "markdown",
   "id": "0d2ddc08-fdb2-4869-a6c9-cdc3a949f024",
   "metadata": {},
   "source": [
    "# iteration 3rd"
   ]
  },
  {
   "cell_type": "code",
   "execution_count": 221,
   "id": "e84e6366-dfa3-4bfb-966f-05c7d8931506",
   "metadata": {},
   "outputs": [
    {
     "data": {
      "text/plain": [
       "np.float64(25.95042662617943)"
      ]
     },
     "execution_count": 221,
     "metadata": {},
     "output_type": "execute_result"
    }
   ],
   "source": [
    "loss_slope =-2*np.sum(y -m*X.ravel() - b)\n",
    "step_size = loss_slope * lr\n",
    "b = b - step_size\n",
    "y_pred3= ((78.35*X) +b).reshape(4)\n",
    "b3 = b\n",
    "b"
   ]
  },
  {
   "cell_type": "code",
   "execution_count": 222,
   "id": "7a619bc5-b73a-4614-9123-ec60a266aebc",
   "metadata": {},
   "outputs": [
    {
     "data": {
      "image/png": "[encoded data removed]",
      "text/plain": [
       "<Figure size 640x480 with 1 Axes>"
      ]
     },
     "metadata": {},
     "output_type": "display_data"
    }
   ],
   "source": [
    "plt.scatter(X,y)\n",
    "\n",
    "plt.plot(X, reg.predict(X),color= 'red',label ='OLS')\n",
    "plt.plot(X,pred_y, color = 'green', label = 'b=0')\n",
    "plt.plot(X,y_pred1,color = 'blue', label = f\"b = {b1}\")\n",
    "plt.plot(X,y_pred2,color = 'brown',label = f\"b = {b2}\")\n",
    "plt.plot(X,y_pred3,color = 'black', label = f\"b = {b3}\")\n",
    "plt.legend()\n",
    "plt.show()"
   ]
  },
  {
   "cell_type": "code",
   "execution_count": 345,
   "id": "482d9fcb-d1e0-4833-951f-c75dd3bedbb5",
   "metadata": {},
   "outputs": [],
   "source": [
    "class MySGD:\n",
    "    def __init__(self,m = 78.35,b= 0 ):\n",
    "        self.m = 78.35\n",
    "        self.b = 0\n",
    "        self.epochs = None\n",
    "        self.lr = None\n",
    "\n",
    "    def fit(self,X,y,epochs = 10, lr =0.1):\n",
    "        self.epochs = epochs\n",
    "        self.lr =lr\n",
    "        b_arr = []\n",
    "        y_pred_arr = []\n",
    "                \n",
    "        for i in range(epochs):\n",
    "            loss_slope =-2*np.sum(y -self.m*X.ravel() - self.b)\n",
    "            step_size = loss_slope * lr\n",
    "            self.b = self.b - step_size\n",
    "            \n",
    "            b_arr.append(self.b) \n",
    "            y_pred = ((self.m*X) +self.b).ravel()\n",
    "            y_pred_arr.append(y_pred)\n",
    "        print(\"Final SGD b:\", self.b)\n",
    "        print(\"Final SGD m:\", self.m)\n",
    "        # return b_arr, y_pred_arr\n",
    " "
   ]
  },
  {
   "cell_type": "code",
   "execution_count": 321,
   "id": "57731169-a4f2-4ec8-a2ea-a2d75cc5ea8e",
   "metadata": {},
   "outputs": [
    {
     "name": "stdout",
     "output_type": "stream",
     "text": [
      "Final b: -55067160707.140144\n",
      "Final m: 78.35\n"
     ]
    }
   ],
   "source": [
    "gd = MySGD()\n",
    "\n",
    "gd.fit(X,y, epochs=10, lr=0.1)"
   ]
  },
  {
   "cell_type": "markdown",
   "id": "1c1935bc-7845-43d1-8e55-d58e2e8cfdfd",
   "metadata": {},
   "source": [
    "# When m and b are variable "
   ]
  },
  {
   "cell_type": "code",
   "execution_count": 346,
   "id": "6b82985f-76e4-4cae-8da2-f393838aa064",
   "metadata": {},
   "outputs": [],
   "source": [
    "class MyGD:\n",
    "    def __init__(self,m = 1,b= 0 ):\n",
    "        self.m = 1\n",
    "        self.b = 0\n",
    "        self.epochs = None\n",
    "        self.lr = None\n",
    "\n",
    "    def fit(self,X,y,epochs = 10, lr =0.1):\n",
    "        self.epochs = epochs\n",
    "        self.lr =lr\n",
    "        b_arr = []\n",
    "        m_arr = []\n",
    "                \n",
    "        for i in range(epochs):\n",
    "            loss_slope =-2*np.sum(y -self.m*X.ravel() - self.b)\n",
    "            step_size = loss_slope * lr\n",
    "            self.b = self.b - step_size\n",
    "            b_arr.append(self.b)\n",
    "\n",
    "            loss_slope_m =-2*np.sum((y -self.m*X.ravel() - self.b)*X)\n",
    "            step_size_m = loss_slope_m * lr\n",
    "            self.m = self.m - step_size_m\n",
    "            m_arr.append(self.m)\n",
    "            \n",
    "        print(\"Final VGD b:\", self.b)\n",
    "        print(\"Final VGD m:\", self.m)\n",
    "        return b_arr,m_arr\n"
   ]
  },
  {
   "cell_type": "code",
   "execution_count": 323,
   "id": "e374e534-25d1-444a-94a6-d80ab656a51f",
   "metadata": {},
   "outputs": [
    {
     "name": "stdout",
     "output_type": "stream",
     "text": [
      "Final b: -2.8506012122755594e+36\n",
      "Final m: -3.535049032128117e+38\n"
     ]
    }
   ],
   "source": [
    "gd2 = MyGD()\n",
    "gd2.fit(X,y,epochs = 15 , lr = 0.12)"
   ]
  },
  {
   "cell_type": "code",
   "execution_count": 324,
   "id": "2691bd18-8957-4db6-ba02-11dcf8265856",
   "metadata": {},
   "outputs": [
    {
     "data": {
      "text/plain": [
       "array([[-0.29169375],\n",
       "       [-1.91328024],\n",
       "       [ 0.31424733],\n",
       "       [ 0.54256004],\n",
       "       [ 1.57921282],\n",
       "       [ 0.24196227],\n",
       "       [ 0.76743473],\n",
       "       [-1.47852199],\n",
       "       [ 0.19686124],\n",
       "       [-0.56228753],\n",
       "       [ 1.05712223],\n",
       "       [-1.15099358],\n",
       "       [-0.46947439],\n",
       "       [-0.60170661],\n",
       "       [-0.2257763 ],\n",
       "       [ 0.82254491],\n",
       "       [-1.4123037 ],\n",
       "       [-0.60063869],\n",
       "       [-0.23415337],\n",
       "       [-0.54438272],\n",
       "       [-1.95967012],\n",
       "       [-0.46341769],\n",
       "       [ 1.52302986],\n",
       "       [-1.05771093],\n",
       "       [-0.23413696],\n",
       "       [ 0.11092259],\n",
       "       [-0.11564828],\n",
       "       [ 1.46564877],\n",
       "       [-1.22084365],\n",
       "       [-0.90802408],\n",
       "       [-0.01349722],\n",
       "       [ 0.49671415],\n",
       "       [-0.71984421],\n",
       "       [ 0.0675282 ],\n",
       "       [ 0.37569802],\n",
       "       [ 0.17136828],\n",
       "       [-1.76304016],\n",
       "       [-1.01283112],\n",
       "       [ 0.2088636 ],\n",
       "       [ 0.64768854],\n",
       "       [-0.1382643 ],\n",
       "       [-1.32818605],\n",
       "       [-0.46572975],\n",
       "       [ 0.73846658],\n",
       "       [ 0.34361829],\n",
       "       [-0.46063877],\n",
       "       [ 1.85227818],\n",
       "       [-1.72491783],\n",
       "       [-1.42474819],\n",
       "       [-0.3011037 ]])"
      ]
     },
     "execution_count": 324,
     "metadata": {},
     "output_type": "execute_result"
    }
   ],
   "source": [
    "X"
   ]
  },
  {
   "cell_type": "markdown",
   "id": "f13805ae-6195-4c3e-aedb-098c99704e27",
   "metadata": {},
   "source": [
    "# Better Version for all dataset"
   ]
  },
  {
   "cell_type": "code",
   "execution_count": 347,
   "id": "ee54a553-e4d9-4bcf-9d9a-721841e9abbb",
   "metadata": {},
   "outputs": [],
   "source": [
    "class MyBetterGD:\n",
    "    def __init__(self,m = 1,b= 0 ):\n",
    "        self.m = 1\n",
    "        self.b = 0\n",
    "\n",
    "    def fit(self,X,y,epochs = 10, lr =0.1):\n",
    "        self.epochs = epochs\n",
    "        self.lr =lr\n",
    "        X =  X.ravel()\n",
    "        y = y.ravel()\n",
    "        n = len(y)\n",
    "        \n",
    "        b_arr = []\n",
    "        m_arr = []\n",
    "                \n",
    "        for i in range(epochs):\n",
    "            gb =-2*np.sum(y - self.m * X - self.b)/n\n",
    "            self.b -= gb * lr\n",
    "            b_arr.append(self.b)\n",
    "\n",
    "            gm =-2*np.sum((y - self.m * X - self.b)*X)/n\n",
    "            self.m -= gm * lr\n",
    "            m_arr.append(self.m)\n",
    "            \n",
    "        print(\"Final BGD b:\", self.b)\n",
    "        print(\"Final BGD m:\", self.m)\n",
    "        # return b_arr,m_arr\n",
    "\n",
    "    def predict(self, X):\n",
    "        return self.m * X.ravel() + self.b"
   ]
  },
  {
   "cell_type": "code",
   "execution_count": 348,
   "id": "ccb170ed-3c43-43e2-8a08-0264f89cb4d5",
   "metadata": {},
   "outputs": [],
   "source": [
    "X, y, _ = make_regression(\n",
    "    n_samples=50,\n",
    "    n_features=1,\n",
    "    noise=10,\n",
    "    coef=True,\n",
    "    random_state=42\n",
    ")"
   ]
  },
  {
   "cell_type": "code",
   "execution_count": 349,
   "id": "eb7aaf5b-fe9a-4f48-811d-edd0c31098a6",
   "metadata": {},
   "outputs": [
    {
     "data": {
      "text/plain": [
       "array([[-0.29169375],\n",
       "       [-1.91328024],\n",
       "       [ 0.31424733],\n",
       "       [ 0.54256004],\n",
       "       [ 1.57921282],\n",
       "       [ 0.24196227],\n",
       "       [ 0.76743473],\n",
       "       [-1.47852199],\n",
       "       [ 0.19686124],\n",
       "       [-0.56228753],\n",
       "       [ 1.05712223],\n",
       "       [-1.15099358],\n",
       "       [-0.46947439],\n",
       "       [-0.60170661],\n",
       "       [-0.2257763 ],\n",
       "       [ 0.82254491],\n",
       "       [-1.4123037 ],\n",
       "       [-0.60063869],\n",
       "       [-0.23415337],\n",
       "       [-0.54438272],\n",
       "       [-1.95967012],\n",
       "       [-0.46341769],\n",
       "       [ 1.52302986],\n",
       "       [-1.05771093],\n",
       "       [-0.23413696],\n",
       "       [ 0.11092259],\n",
       "       [-0.11564828],\n",
       "       [ 1.46564877],\n",
       "       [-1.22084365],\n",
       "       [-0.90802408],\n",
       "       [-0.01349722],\n",
       "       [ 0.49671415],\n",
       "       [-0.71984421],\n",
       "       [ 0.0675282 ],\n",
       "       [ 0.37569802],\n",
       "       [ 0.17136828],\n",
       "       [-1.76304016],\n",
       "       [-1.01283112],\n",
       "       [ 0.2088636 ],\n",
       "       [ 0.64768854],\n",
       "       [-0.1382643 ],\n",
       "       [-1.32818605],\n",
       "       [-0.46572975],\n",
       "       [ 0.73846658],\n",
       "       [ 0.34361829],\n",
       "       [-0.46063877],\n",
       "       [ 1.85227818],\n",
       "       [-1.72491783],\n",
       "       [-1.42474819],\n",
       "       [-0.3011037 ]])"
      ]
     },
     "execution_count": 349,
     "metadata": {},
     "output_type": "execute_result"
    }
   ],
   "source": [
    "X"
   ]
  },
  {
   "cell_type": "code",
   "execution_count": 350,
   "id": "05b1c8aa-ea87-4ee5-b482-840de1d315d3",
   "metadata": {},
   "outputs": [
    {
     "data": {
      "text/plain": [
       "array([-19.06121027, -23.99713972,  12.38446082,   3.54215228,\n",
       "         7.17340131,  11.75778875,  21.8114842 ,  -8.09862036,\n",
       "         4.52978465,  -8.68203088,  18.35259248,  -7.18496288,\n",
       "        -8.39335261, -16.37208709, -12.38564307,  16.60613374,\n",
       "       -16.52096793, -13.80861872,  -5.37144719, -21.85917594,\n",
       "       -24.47137038,   5.26648553,  29.01315819, -19.17439723,\n",
       "        -9.53433087,  11.98808417,  -4.19606628,  54.37750422,\n",
       "        -5.62277799,   2.15808362,  -2.31182281,  12.82113365,\n",
       "       -13.06387543,  -3.03474791,   5.48449852,   9.14624925,\n",
       "       -27.73687531,  -4.54360873,   5.51456273,  18.07082383,\n",
       "         6.92900565,  -4.99873762, -15.54533985,   7.31389758,\n",
       "         0.8872496 , -33.04327665,  33.5401996 , -34.68656963,\n",
       "       -20.68679427,  -7.92153774])"
      ]
     },
     "execution_count": 350,
     "metadata": {},
     "output_type": "execute_result"
    }
   ],
   "source": [
    "y"
   ]
  },
  {
   "cell_type": "code",
   "execution_count": 351,
   "id": "798eb649-1256-4801-aa2a-c7675b6b6e23",
   "metadata": {},
   "outputs": [
    {
     "name": "stdout",
     "output_type": "stream",
     "text": [
      "Final BGD b: 1.6037240712812648\n",
      "Final BGD m: 15.432802127833293\n"
     ]
    }
   ],
   "source": [
    "gd3 = MyBetterGD()\n",
    "gd3.fit(X,y,epochs = 30, lr = 0.15)"
   ]
  },
  {
   "cell_type": "code",
   "execution_count": 352,
   "id": "01776cd6-7ad4-452d-aaa2-ce2e4c7b5b9d",
   "metadata": {},
   "outputs": [
    {
     "data": {
      "text/plain": [
       "<matplotlib.collections.PathCollection at 0x777021cc3b10>"
      ]
     },
     "execution_count": 352,
     "metadata": {},
     "output_type": "execute_result"
    },
    {
     "data": {
      "image/png": "[encoded data removed]",
      "text/plain": [
       "<Figure size 640x480 with 1 Axes>"
      ]
     },
     "metadata": {},
     "output_type": "display_data"
    }
   ],
   "source": [
    "plt.scatter(X,y)"
   ]
  },
  {
   "cell_type": "code",
   "execution_count": 353,
   "id": "d0d215fc-5e55-4252-b06a-14f649acf46e",
   "metadata": {},
   "outputs": [
    {
     "data": {
      "text/html": [
       "<style>#sk-container-id-9 {\n",
       "  /* Definition of color scheme common for light and dark mode */\n",
       "  --sklearn-color-text: #000;\n",
       "  --sklearn-color-text-muted: #666;\n",
       "  --sklearn-color-line: gray;\n",
       "  /* Definition of color scheme for unfitted estimators */\n",
       "  --sklearn-color-unfitted-level-0: #fff5e6;\n",
       "  --sklearn-color-unfitted-level-1: #f6e4d2;\n",
       "  --sklearn-color-unfitted-level-2: #ffe0b3;\n",
       "  --sklearn-color-unfitted-level-3: chocolate;\n",
       "  /* Definition of color scheme for fitted estimators */\n",
       "  --sklearn-color-fitted-level-0: #f0f8ff;\n",
       "  --sklearn-color-fitted-level-1: #d4ebff;\n",
       "  --sklearn-color-fitted-level-2: #b3dbfd;\n",
       "  --sklearn-color-fitted-level-3: cornflowerblue;\n",
       "\n",
       "  /* Specific color for light theme */\n",
       "  --sklearn-color-text-on-default-background: var(--sg-text-color, var(--theme-code-foreground, var(--jp-content-font-color1, black)));\n",
       "  --sklearn-color-background: var(--sg-background-color, var(--theme-background, var(--jp-layout-color0, white)));\n",
       "  --sklearn-color-border-box: var(--sg-text-color, var(--theme-code-foreground, var(--jp-content-font-color1, black)));\n",
       "  --sklearn-color-icon: #696969;\n",
       "\n",
       "  @media (prefers-color-scheme: dark) {\n",
       "    /* Redefinition of color scheme for dark theme */\n",
       "    --sklearn-color-text-on-default-background: var(--sg-text-color, var(--theme-code-foreground, var(--jp-content-font-color1, white)));\n",
       "    --sklearn-color-background: var(--sg-background-color, var(--theme-background, var(--jp-layout-color0, #111)));\n",
       "    --sklearn-color-border-box: var(--sg-text-color, var(--theme-code-foreground, var(--jp-content-font-color1, white)));\n",
       "    --sklearn-color-icon: #878787;\n",
       "  }\n",
       "}\n",
       "\n",
       "#sk-container-id-9 {\n",
       "  color: var(--sklearn-color-text);\n",
       "}\n",
       "\n",
       "#sk-container-id-9 pre {\n",
       "  padding: 0;\n",
       "}\n",
       "\n",
       "#sk-container-id-9 input.sk-hidden--visually {\n",
       "  border: 0;\n",
       "  clip: rect(1px 1px 1px 1px);\n",
       "  clip: rect(1px, 1px, 1px, 1px);\n",
       "  height: 1px;\n",
       "  margin: -1px;\n",
       "  overflow: hidden;\n",
       "  padding: 0;\n",
       "  position: absolute;\n",
       "  width: 1px;\n",
       "}\n",
       "\n",
       "#sk-container-id-9 div.sk-dashed-wrapped {\n",
       "  border: 1px dashed var(--sklearn-color-line);\n",
       "  margin: 0 0.4em 0.5em 0.4em;\n",
       "  box-sizing: border-box;\n",
       "  padding-bottom: 0.4em;\n",
       "  background-color: var(--sklearn-color-background);\n",
       "}\n",
       "\n",
       "#sk-container-id-9 div.sk-container {\n",
       "  /* jupyter's `normalize.less` sets `[hidden] { display: none; }`\n",
       "     but bootstrap.min.css set `[hidden] { display: none !important; }`\n",
       "     so we also need the `!important` here to be able to override the\n",
       "     default hidden behavior on the sphinx rendered scikit-learn.org.\n",
       "     See: https://github.com/scikit-learn/scikit-learn/issues/21755 */\n",
       "  display: inline-block !important;\n",
       "  position: relative;\n",
       "}\n",
       "\n",
       "#sk-container-id-9 div.sk-text-repr-fallback {\n",
       "  display: none;\n",
       "}\n",
       "\n",
       "div.sk-parallel-item,\n",
       "div.sk-serial,\n",
       "div.sk-item {\n",
       "  /* draw centered vertical line to link estimators */\n",
       "  background-image: linear-gradient(var(--sklearn-color-text-on-default-background), var(--sklearn-color-text-on-default-background));\n",
       "  background-size: 2px 100%;\n",
       "  background-repeat: no-repeat;\n",
       "  background-position: center center;\n",
       "}\n",
       "\n",
       "/* Parallel-specific style estimator block */\n",
       "\n",
       "#sk-container-id-9 div.sk-parallel-item::after {\n",
       "  content: \"\";\n",
       "  width: 100%;\n",
       "  border-bottom: 2px solid var(--sklearn-color-text-on-default-background);\n",
       "  flex-grow: 1;\n",
       "}\n",
       "\n",
       "#sk-container-id-9 div.sk-parallel {\n",
       "  display: flex;\n",
       "  align-items: stretch;\n",
       "  justify-content: center;\n",
       "  background-color: var(--sklearn-color-background);\n",
       "  position: relative;\n",
       "}\n",
       "\n",
       "#sk-container-id-9 div.sk-parallel-item {\n",
       "  display: flex;\n",
       "  flex-direction: column;\n",
       "}\n",
       "\n",
       "#sk-container-id-9 div.sk-parallel-item:first-child::after {\n",
       "  align-self: flex-end;\n",
       "  width: 50%;\n",
       "}\n",
       "\n",
       "#sk-container-id-9 div.sk-parallel-item:last-child::after {\n",
       "  align-self: flex-start;\n",
       "  width: 50%;\n",
       "}\n",
       "\n",
       "#sk-container-id-9 div.sk-parallel-item:only-child::after {\n",
       "  width: 0;\n",
       "}\n",
       "\n",
       "/* Serial-specific style estimator block */\n",
       "\n",
       "#sk-container-id-9 div.sk-serial {\n",
       "  display: flex;\n",
       "  flex-direction: column;\n",
       "  align-items: center;\n",
       "  background-color: var(--sklearn-color-background);\n",
       "  padding-right: 1em;\n",
       "  padding-left: 1em;\n",
       "}\n",
       "\n",
       "\n",
       "/* Toggleable style: style used for estimator/Pipeline/ColumnTransformer box that is\n",
       "clickable and can be expanded/collapsed.\n",
       "- Pipeline and ColumnTransformer use this feature and define the default style\n",
       "- Estimators will overwrite some part of the style using the `sk-estimator` class\n",
       "*/\n",
       "\n",
       "/* Pipeline and ColumnTransformer style (default) */\n",
       "\n",
       "#sk-container-id-9 div.sk-toggleable {\n",
       "  /* Default theme specific background. It is overwritten whether we have a\n",
       "  specific estimator or a Pipeline/ColumnTransformer */\n",
       "  background-color: var(--sklearn-color-background);\n",
       "}\n",
       "\n",
       "/* Toggleable label */\n",
       "#sk-container-id-9 label.sk-toggleable__label {\n",
       "  cursor: pointer;\n",
       "  display: flex;\n",
       "  width: 100%;\n",
       "  margin-bottom: 0;\n",
       "  padding: 0.5em;\n",
       "  box-sizing: border-box;\n",
       "  text-align: center;\n",
       "  align-items: start;\n",
       "  justify-content: space-between;\n",
       "  gap: 0.5em;\n",
       "}\n",
       "\n",
       "#sk-container-id-9 label.sk-toggleable__label .caption {\n",
       "  font-size: 0.6rem;\n",
       "  font-weight: lighter;\n",
       "  color: var(--sklearn-color-text-muted);\n",
       "}\n",
       "\n",
       "#sk-container-id-9 label.sk-toggleable__label-arrow:before {\n",
       "  /* Arrow on the left of the label */\n",
       "  content: \"▸\";\n",
       "  float: left;\n",
       "  margin-right: 0.25em;\n",
       "  color: var(--sklearn-color-icon);\n",
       "}\n",
       "\n",
       "#sk-container-id-9 label.sk-toggleable__label-arrow:hover:before {\n",
       "  color: var(--sklearn-color-text);\n",
       "}\n",
       "\n",
       "/* Toggleable content - dropdown */\n",
       "\n",
       "#sk-container-id-9 div.sk-toggleable__content {\n",
       "  max-height: 0;\n",
       "  max-width: 0;\n",
       "  overflow: hidden;\n",
       "  text-align: left;\n",
       "  /* unfitted */\n",
       "  background-color: var(--sklearn-color-unfitted-level-0);\n",
       "}\n",
       "\n",
       "#sk-container-id-9 div.sk-toggleable__content.fitted {\n",
       "  /* fitted */\n",
       "  background-color: var(--sklearn-color-fitted-level-0);\n",
       "}\n",
       "\n",
       "#sk-container-id-9 div.sk-toggleable__content pre {\n",
       "  margin: 0.2em;\n",
       "  border-radius: 0.25em;\n",
       "  color: var(--sklearn-color-text);\n",
       "  /* unfitted */\n",
       "  background-color: var(--sklearn-color-unfitted-level-0);\n",
       "}\n",
       "\n",
       "#sk-container-id-9 div.sk-toggleable__content.fitted pre {\n",
       "  /* unfitted */\n",
       "  background-color: var(--sklearn-color-fitted-level-0);\n",
       "}\n",
       "\n",
       "#sk-container-id-9 input.sk-toggleable__control:checked~div.sk-toggleable__content {\n",
       "  /* Expand drop-down */\n",
       "  max-height: 200px;\n",
       "  max-width: 100%;\n",
       "  overflow: auto;\n",
       "}\n",
       "\n",
       "#sk-container-id-9 input.sk-toggleable__control:checked~label.sk-toggleable__label-arrow:before {\n",
       "  content: \"▾\";\n",
       "}\n",
       "\n",
       "/* Pipeline/ColumnTransformer-specific style */\n",
       "\n",
       "#sk-container-id-9 div.sk-label input.sk-toggleable__control:checked~label.sk-toggleable__label {\n",
       "  color: var(--sklearn-color-text);\n",
       "  background-color: var(--sklearn-color-unfitted-level-2);\n",
       "}\n",
       "\n",
       "#sk-container-id-9 div.sk-label.fitted input.sk-toggleable__control:checked~label.sk-toggleable__label {\n",
       "  background-color: var(--sklearn-color-fitted-level-2);\n",
       "}\n",
       "\n",
       "/* Estimator-specific style */\n",
       "\n",
       "/* Colorize estimator box */\n",
       "#sk-container-id-9 div.sk-estimator input.sk-toggleable__control:checked~label.sk-toggleable__label {\n",
       "  /* unfitted */\n",
       "  background-color: var(--sklearn-color-unfitted-level-2);\n",
       "}\n",
       "\n",
       "#sk-container-id-9 div.sk-estimator.fitted input.sk-toggleable__control:checked~label.sk-toggleable__label {\n",
       "  /* fitted */\n",
       "  background-color: var(--sklearn-color-fitted-level-2);\n",
       "}\n",
       "\n",
       "#sk-container-id-9 div.sk-label label.sk-toggleable__label,\n",
       "#sk-container-id-9 div.sk-label label {\n",
       "  /* The background is the default theme color */\n",
       "  color: var(--sklearn-color-text-on-default-background);\n",
       "}\n",
       "\n",
       "/* On hover, darken the color of the background */\n",
       "#sk-container-id-9 div.sk-label:hover label.sk-toggleable__label {\n",
       "  color: var(--sklearn-color-text);\n",
       "  background-color: var(--sklearn-color-unfitted-level-2);\n",
       "}\n",
       "\n",
       "/* Label box, darken color on hover, fitted */\n",
       "#sk-container-id-9 div.sk-label.fitted:hover label.sk-toggleable__label.fitted {\n",
       "  color: var(--sklearn-color-text);\n",
       "  background-color: var(--sklearn-color-fitted-level-2);\n",
       "}\n",
       "\n",
       "/* Estimator label */\n",
       "\n",
       "#sk-container-id-9 div.sk-label label {\n",
       "  font-family: monospace;\n",
       "  font-weight: bold;\n",
       "  display: inline-block;\n",
       "  line-height: 1.2em;\n",
       "}\n",
       "\n",
       "#sk-container-id-9 div.sk-label-container {\n",
       "  text-align: center;\n",
       "}\n",
       "\n",
       "/* Estimator-specific */\n",
       "#sk-container-id-9 div.sk-estimator {\n",
       "  font-family: monospace;\n",
       "  border: 1px dotted var(--sklearn-color-border-box);\n",
       "  border-radius: 0.25em;\n",
       "  box-sizing: border-box;\n",
       "  margin-bottom: 0.5em;\n",
       "  /* unfitted */\n",
       "  background-color: var(--sklearn-color-unfitted-level-0);\n",
       "}\n",
       "\n",
       "#sk-container-id-9 div.sk-estimator.fitted {\n",
       "  /* fitted */\n",
       "  background-color: var(--sklearn-color-fitted-level-0);\n",
       "}\n",
       "\n",
       "/* on hover */\n",
       "#sk-container-id-9 div.sk-estimator:hover {\n",
       "  /* unfitted */\n",
       "  background-color: var(--sklearn-color-unfitted-level-2);\n",
       "}\n",
       "\n",
       "#sk-container-id-9 div.sk-estimator.fitted:hover {\n",
       "  /* fitted */\n",
       "  background-color: var(--sklearn-color-fitted-level-2);\n",
       "}\n",
       "\n",
       "/* Specification for estimator info (e.g. \"i\" and \"?\") */\n",
       "\n",
       "/* Common style for \"i\" and \"?\" */\n",
       "\n",
       ".sk-estimator-doc-link,\n",
       "a:link.sk-estimator-doc-link,\n",
       "a:visited.sk-estimator-doc-link {\n",
       "  float: right;\n",
       "  font-size: smaller;\n",
       "  line-height: 1em;\n",
       "  font-family: monospace;\n",
       "  background-color: var(--sklearn-color-background);\n",
       "  border-radius: 1em;\n",
       "  height: 1em;\n",
       "  width: 1em;\n",
       "  text-decoration: none !important;\n",
       "  margin-left: 0.5em;\n",
       "  text-align: center;\n",
       "  /* unfitted */\n",
       "  border: var(--sklearn-color-unfitted-level-1) 1pt solid;\n",
       "  color: var(--sklearn-color-unfitted-level-1);\n",
       "}\n",
       "\n",
       ".sk-estimator-doc-link.fitted,\n",
       "a:link.sk-estimator-doc-link.fitted,\n",
       "a:visited.sk-estimator-doc-link.fitted {\n",
       "  /* fitted */\n",
       "  border: var(--sklearn-color-fitted-level-1) 1pt solid;\n",
       "  color: var(--sklearn-color-fitted-level-1);\n",
       "}\n",
       "\n",
       "/* On hover */\n",
       "div.sk-estimator:hover .sk-estimator-doc-link:hover,\n",
       ".sk-estimator-doc-link:hover,\n",
       "div.sk-label-container:hover .sk-estimator-doc-link:hover,\n",
       ".sk-estimator-doc-link:hover {\n",
       "  /* unfitted */\n",
       "  background-color: var(--sklearn-color-unfitted-level-3);\n",
       "  color: var(--sklearn-color-background);\n",
       "  text-decoration: none;\n",
       "}\n",
       "\n",
       "div.sk-estimator.fitted:hover .sk-estimator-doc-link.fitted:hover,\n",
       ".sk-estimator-doc-link.fitted:hover,\n",
       "div.sk-label-container:hover .sk-estimator-doc-link.fitted:hover,\n",
       ".sk-estimator-doc-link.fitted:hover {\n",
       "  /* fitted */\n",
       "  background-color: var(--sklearn-color-fitted-level-3);\n",
       "  color: var(--sklearn-color-background);\n",
       "  text-decoration: none;\n",
       "}\n",
       "\n",
       "/* Span, style for the box shown on hovering the info icon */\n",
       ".sk-estimator-doc-link span {\n",
       "  display: none;\n",
       "  z-index: 9999;\n",
       "  position: relative;\n",
       "  font-weight: normal;\n",
       "  right: .2ex;\n",
       "  padding: .5ex;\n",
       "  margin: .5ex;\n",
       "  width: min-content;\n",
       "  min-width: 20ex;\n",
       "  max-width: 50ex;\n",
       "  color: var(--sklearn-color-text);\n",
       "  box-shadow: 2pt 2pt 4pt #999;\n",
       "  /* unfitted */\n",
       "  background: var(--sklearn-color-unfitted-level-0);\n",
       "  border: .5pt solid var(--sklearn-color-unfitted-level-3);\n",
       "}\n",
       "\n",
       ".sk-estimator-doc-link.fitted span {\n",
       "  /* fitted */\n",
       "  background: var(--sklearn-color-fitted-level-0);\n",
       "  border: var(--sklearn-color-fitted-level-3);\n",
       "}\n",
       "\n",
       ".sk-estimator-doc-link:hover span {\n",
       "  display: block;\n",
       "}\n",
       "\n",
       "/* \"?\"-specific style due to the `<a>` HTML tag */\n",
       "\n",
       "#sk-container-id-9 a.estimator_doc_link {\n",
       "  float: right;\n",
       "  font-size: 1rem;\n",
       "  line-height: 1em;\n",
       "  font-family: monospace;\n",
       "  background-color: var(--sklearn-color-background);\n",
       "  border-radius: 1rem;\n",
       "  height: 1rem;\n",
       "  width: 1rem;\n",
       "  text-decoration: none;\n",
       "  /* unfitted */\n",
       "  color: var(--sklearn-color-unfitted-level-1);\n",
       "  border: var(--sklearn-color-unfitted-level-1) 1pt solid;\n",
       "}\n",
       "\n",
       "#sk-container-id-9 a.estimator_doc_link.fitted {\n",
       "  /* fitted */\n",
       "  border: var(--sklearn-color-fitted-level-1) 1pt solid;\n",
       "  color: var(--sklearn-color-fitted-level-1);\n",
       "}\n",
       "\n",
       "/* On hover */\n",
       "#sk-container-id-9 a.estimator_doc_link:hover {\n",
       "  /* unfitted */\n",
       "  background-color: var(--sklearn-color-unfitted-level-3);\n",
       "  color: var(--sklearn-color-background);\n",
       "  text-decoration: none;\n",
       "}\n",
       "\n",
       "#sk-container-id-9 a.estimator_doc_link.fitted:hover {\n",
       "  /* fitted */\n",
       "  background-color: var(--sklearn-color-fitted-level-3);\n",
       "}\n",
       "</style><div id=\"sk-container-id-9\" class=\"sk-top-container\"><div class=\"sk-text-repr-fallback\"><pre>LinearRegression()</pre><b>In a Jupyter environment, please rerun this cell to show the HTML representation or trust the notebook. <br />On GitHub, the HTML representation is unable to render, please try loading this page with nbviewer.org.</b></div><div class=\"sk-container\" hidden><div class=\"sk-item\"><div class=\"sk-estimator fitted sk-toggleable\"><input class=\"sk-toggleable__control sk-hidden--visually\" id=\"sk-estimator-id-9\" type=\"checkbox\" checked><label for=\"sk-estimator-id-9\" class=\"sk-toggleable__label fitted sk-toggleable__label-arrow\"><div><div>LinearRegression</div></div><div><a class=\"sk-estimator-doc-link fitted\" rel=\"noreferrer\" target=\"_blank\" href=\"https://scikit-learn.org/1.6/modules/generated/sklearn.linear_model.LinearRegression.html\">?<span>Documentation for LinearRegression</span></a><span class=\"sk-estimator-doc-link fitted\">i<span>Fitted</span></span></div></label><div class=\"sk-toggleable__content fitted\"><pre>LinearRegression()</pre></div> </div></div></div></div>"
      ],
      "text/plain": [
       "LinearRegression()"
      ]
     },
     "execution_count": 353,
     "metadata": {},
     "output_type": "execute_result"
    }
   ],
   "source": [
    "reg.fit(X,y)"
   ]
  },
  {
   "cell_type": "code",
   "execution_count": 354,
   "id": "636b9e01-f313-4537-b32b-ffc0fdadcedd",
   "metadata": {},
   "outputs": [
    {
     "data": {
      "text/plain": [
       "[<matplotlib.lines.Line2D at 0x777021b9e210>]"
      ]
     },
     "execution_count": 354,
     "metadata": {},
     "output_type": "execute_result"
    },
    {
     "data": {
      "image/png": "[encoded data removed]",
      "text/plain": [
       "<Figure size 640x480 with 1 Axes>"
      ]
     },
     "metadata": {},
     "output_type": "display_data"
    }
   ],
   "source": [
    "plt.scatter(X,y)\n",
    "plt.plot(X,reg.predict(X),color= 'red',label ='OLS')"
   ]
  },
  {
   "cell_type": "code",
   "execution_count": 355,
   "id": "dbc769bd-44de-418b-b03a-d8157417cf66",
   "metadata": {},
   "outputs": [
    {
     "name": "stdout",
     "output_type": "stream",
     "text": [
      "[15.43762655]\n",
      "1.6080089267869153\n"
     ]
    }
   ],
   "source": [
    "print(reg.coef_)\n",
    "print(reg.intercept_)"
   ]
  },
  {
   "cell_type": "code",
   "execution_count": 356,
   "id": "c4c11f8f-88ec-48be-a864-664e256793f7",
   "metadata": {},
   "outputs": [
    {
     "name": "stdout",
     "output_type": "stream",
     "text": [
      "Final BGD b: 1.6037240712812648\n",
      "Final BGD m: 15.432802127833293\n",
      "Final VGD b: -1.4224938216147726e+80\n",
      "Final VGD m: -2.245146660135497e+82\n",
      "Final SGD b: -3.822158217934116e+35\n",
      "Final SGD m: 78.35\n"
     ]
    }
   ],
   "source": [
    "bgd = MyBetterGD()\n",
    "bgd.fit(X,y,epochs = 30, lr = 0.15)\n",
    "\n",
    "vgd = MyGD()\n",
    "vgd.fit(X,y,epochs = 30, lr = 0.15)\n",
    "\n",
    "sgd = MySGD()\n",
    "sgd.fit(X,y,epochs = 30, lr = 0.15)"
   ]
  },
  {
   "cell_type": "code",
   "execution_count": 359,
   "id": "dac4dac4-c6be-42b3-baff-89215c241738",
   "metadata": {},
   "outputs": [
    {
     "name": "stdout",
     "output_type": "stream",
     "text": [
      "Final VGD b: -1.6472991149786198\n",
      "Final VGD m: 1.0000000000000335\n"
     ]
    },
    {
     "data": {
      "text/plain": [
       "([np.float64(-1.6472991149786274),\n",
       "  np.float64(-1.6472991149786278),\n",
       "  np.float64(-1.6472991149786287),\n",
       "  np.float64(-1.647299114978628),\n",
       "  np.float64(-1.6472991149786278),\n",
       "  np.float64(-1.6472991149786274),\n",
       "  np.float64(-1.6472991149786278),\n",
       "  np.float64(-1.647299114978628),\n",
       "  np.float64(-1.6472991149786296),\n",
       "  np.float64(-1.6472991149786285),\n",
       "  np.float64(-1.6472991149786276),\n",
       "  np.float64(-1.6472991149786271),\n",
       "  np.float64(-1.6472991149786265),\n",
       "  np.float64(-1.6472991149786267),\n",
       "  np.float64(-1.647299114978626),\n",
       "  np.float64(-1.6472991149786254),\n",
       "  np.float64(-1.6472991149786254),\n",
       "  np.float64(-1.6472991149786234),\n",
       "  np.float64(-1.6472991149786222),\n",
       "  np.float64(-1.6472991149786225),\n",
       "  np.float64(-1.6472991149786216),\n",
       "  np.float64(-1.6472991149786214),\n",
       "  np.float64(-1.647299114978621),\n",
       "  np.float64(-1.6472991149786216),\n",
       "  np.float64(-1.64729911497862),\n",
       "  np.float64(-1.6472991149786198),\n",
       "  np.float64(-1.6472991149786202),\n",
       "  np.float64(-1.6472991149786198),\n",
       "  np.float64(-1.6472991149786198),\n",
       "  np.float64(-1.6472991149786202),\n",
       "  np.float64(-1.6472991149786214),\n",
       "  np.float64(-1.6472991149786231),\n",
       "  np.float64(-1.6472991149786225),\n",
       "  np.float64(-1.647299114978623),\n",
       "  np.float64(-1.6472991149786222),\n",
       "  np.float64(-1.6472991149786227),\n",
       "  np.float64(-1.6472991149786216),\n",
       "  np.float64(-1.6472991149786222),\n",
       "  np.float64(-1.647299114978622),\n",
       "  np.float64(-1.6472991149786218),\n",
       "  np.float64(-1.647299114978621),\n",
       "  np.float64(-1.6472991149786216),\n",
       "  np.float64(-1.64729911497862),\n",
       "  np.float64(-1.6472991149786198),\n",
       "  np.float64(-1.6472991149786202),\n",
       "  np.float64(-1.6472991149786198),\n",
       "  np.float64(-1.6472991149786198),\n",
       "  np.float64(-1.6472991149786202),\n",
       "  np.float64(-1.6472991149786214),\n",
       "  np.float64(-1.6472991149786231),\n",
       "  np.float64(-1.6472991149786225),\n",
       "  np.float64(-1.647299114978623),\n",
       "  np.float64(-1.6472991149786222),\n",
       "  np.float64(-1.6472991149786227),\n",
       "  np.float64(-1.6472991149786216),\n",
       "  np.float64(-1.6472991149786222),\n",
       "  np.float64(-1.647299114978622),\n",
       "  np.float64(-1.6472991149786218),\n",
       "  np.float64(-1.647299114978621),\n",
       "  np.float64(-1.6472991149786216),\n",
       "  np.float64(-1.64729911497862),\n",
       "  np.float64(-1.6472991149786198),\n",
       "  np.float64(-1.6472991149786202),\n",
       "  np.float64(-1.6472991149786198),\n",
       "  np.float64(-1.6472991149786198),\n",
       "  np.float64(-1.6472991149786202),\n",
       "  np.float64(-1.6472991149786214),\n",
       "  np.float64(-1.6472991149786231),\n",
       "  np.float64(-1.6472991149786225),\n",
       "  np.float64(-1.647299114978623),\n",
       "  np.float64(-1.6472991149786222),\n",
       "  np.float64(-1.6472991149786227),\n",
       "  np.float64(-1.6472991149786216),\n",
       "  np.float64(-1.6472991149786222),\n",
       "  np.float64(-1.647299114978622),\n",
       "  np.float64(-1.6472991149786218),\n",
       "  np.float64(-1.647299114978621),\n",
       "  np.float64(-1.6472991149786216),\n",
       "  np.float64(-1.64729911497862),\n",
       "  np.float64(-1.6472991149786198),\n",
       "  np.float64(-1.6472991149786202),\n",
       "  np.float64(-1.6472991149786198),\n",
       "  np.float64(-1.6472991149786198),\n",
       "  np.float64(-1.6472991149786202),\n",
       "  np.float64(-1.6472991149786214),\n",
       "  np.float64(-1.6472991149786231),\n",
       "  np.float64(-1.6472991149786225),\n",
       "  np.float64(-1.647299114978623),\n",
       "  np.float64(-1.6472991149786222),\n",
       "  np.float64(-1.6472991149786227),\n",
       "  np.float64(-1.6472991149786216),\n",
       "  np.float64(-1.6472991149786222),\n",
       "  np.float64(-1.647299114978622),\n",
       "  np.float64(-1.6472991149786218),\n",
       "  np.float64(-1.647299114978621),\n",
       "  np.float64(-1.6472991149786216),\n",
       "  np.float64(-1.64729911497862),\n",
       "  np.float64(-1.6472991149786198),\n",
       "  np.float64(-1.6472991149786202),\n",
       "  np.float64(-1.6472991149786198)],\n",
       " [np.float64(0.9999999999999998),\n",
       "  np.float64(0.9999999999999923),\n",
       "  np.float64(0.9999999999999937),\n",
       "  np.float64(0.9999999999999953),\n",
       "  np.float64(0.999999999999998),\n",
       "  np.float64(0.9999999999999984),\n",
       "  np.float64(0.9999999999999962),\n",
       "  np.float64(0.9999999999999888),\n",
       "  np.float64(0.9999999999999919),\n",
       "  np.float64(0.9999999999999959),\n",
       "  np.float64(1.0000000000000022),\n",
       "  np.float64(1.0000000000000013),\n",
       "  np.float64(1.0000000000000029),\n",
       "  np.float64(1.000000000000004),\n",
       "  np.float64(1.0000000000000082),\n",
       "  np.float64(1.000000000000005),\n",
       "  np.float64(1.0000000000000169),\n",
       "  np.float64(1.000000000000021),\n",
       "  np.float64(1.0000000000000189),\n",
       "  np.float64(1.0000000000000253),\n",
       "  np.float64(1.0000000000000244),\n",
       "  np.float64(1.0000000000000275),\n",
       "  np.float64(1.0000000000000229),\n",
       "  np.float64(1.0000000000000282),\n",
       "  np.float64(1.000000000000035),\n",
       "  np.float64(1.0000000000000306),\n",
       "  np.float64(1.0000000000000333),\n",
       "  np.float64(1.0000000000000335),\n",
       "  np.float64(1.0000000000000313),\n",
       "  np.float64(1.0000000000000278),\n",
       "  np.float64(1.0000000000000195),\n",
       "  np.float64(1.0000000000000204),\n",
       "  np.float64(1.000000000000018),\n",
       "  np.float64(1.0000000000000224),\n",
       "  np.float64(1.000000000000019),\n",
       "  np.float64(1.0000000000000255),\n",
       "  np.float64(1.0000000000000218),\n",
       "  np.float64(1.0000000000000209),\n",
       "  np.float64(1.0000000000000213),\n",
       "  np.float64(1.0000000000000275),\n",
       "  np.float64(1.0000000000000229),\n",
       "  np.float64(1.0000000000000282),\n",
       "  np.float64(1.000000000000035),\n",
       "  np.float64(1.0000000000000306),\n",
       "  np.float64(1.0000000000000333),\n",
       "  np.float64(1.0000000000000335),\n",
       "  np.float64(1.0000000000000313),\n",
       "  np.float64(1.0000000000000278),\n",
       "  np.float64(1.0000000000000195),\n",
       "  np.float64(1.0000000000000204),\n",
       "  np.float64(1.000000000000018),\n",
       "  np.float64(1.0000000000000224),\n",
       "  np.float64(1.000000000000019),\n",
       "  np.float64(1.0000000000000255),\n",
       "  np.float64(1.0000000000000218),\n",
       "  np.float64(1.0000000000000209),\n",
       "  np.float64(1.0000000000000213),\n",
       "  np.float64(1.0000000000000275),\n",
       "  np.float64(1.0000000000000229),\n",
       "  np.float64(1.0000000000000282),\n",
       "  np.float64(1.000000000000035),\n",
       "  np.float64(1.0000000000000306),\n",
       "  np.float64(1.0000000000000333),\n",
       "  np.float64(1.0000000000000335),\n",
       "  np.float64(1.0000000000000313),\n",
       "  np.float64(1.0000000000000278),\n",
       "  np.float64(1.0000000000000195),\n",
       "  np.float64(1.0000000000000204),\n",
       "  np.float64(1.000000000000018),\n",
       "  np.float64(1.0000000000000224),\n",
       "  np.float64(1.000000000000019),\n",
       "  np.float64(1.0000000000000255),\n",
       "  np.float64(1.0000000000000218),\n",
       "  np.float64(1.0000000000000209),\n",
       "  np.float64(1.0000000000000213),\n",
       "  np.float64(1.0000000000000275),\n",
       "  np.float64(1.0000000000000229),\n",
       "  np.float64(1.0000000000000282),\n",
       "  np.float64(1.000000000000035),\n",
       "  np.float64(1.0000000000000306),\n",
       "  np.float64(1.0000000000000333),\n",
       "  np.float64(1.0000000000000335),\n",
       "  np.float64(1.0000000000000313),\n",
       "  np.float64(1.0000000000000278),\n",
       "  np.float64(1.0000000000000195),\n",
       "  np.float64(1.0000000000000204),\n",
       "  np.float64(1.000000000000018),\n",
       "  np.float64(1.0000000000000224),\n",
       "  np.float64(1.000000000000019),\n",
       "  np.float64(1.0000000000000255),\n",
       "  np.float64(1.0000000000000218),\n",
       "  np.float64(1.0000000000000209),\n",
       "  np.float64(1.0000000000000213),\n",
       "  np.float64(1.0000000000000275),\n",
       "  np.float64(1.0000000000000229),\n",
       "  np.float64(1.0000000000000282),\n",
       "  np.float64(1.000000000000035),\n",
       "  np.float64(1.0000000000000306),\n",
       "  np.float64(1.0000000000000333),\n",
       "  np.float64(1.0000000000000335)])"
      ]
     },
     "execution_count": 359,
     "metadata": {},
     "output_type": "execute_result"
    }
   ],
   "source": [
    "vgd = MyGD()\n",
    "vgd.fit(X,y,epochs = 100, lr = 0.01)\n"
   ]
  },
  {
   "cell_type": "code",
   "execution_count": 360,
   "id": "9804cebe-69c8-4c5b-8ef6-4f7d69e777fe",
   "metadata": {},
   "outputs": [],
   "source": [
    "class MyGD:\n",
    "    def __init__(self,m = 1,b= 0 ):\n",
    "        self.m = 1\n",
    "        self.b = 50\n",
    "        self.epochs = None\n",
    "        self.lr = None\n",
    "\n",
    "    def fit(self,X,y,epochs = 10, lr =0.1):\n",
    "        self.epochs = epochs\n",
    "        self.lr =lr\n",
    "        b_arr = []\n",
    "        m_arr = []\n",
    "                \n",
    "        for i in range(epochs):\n",
    "            loss_slope =-2*np.sum(y -self.m*X.ravel() - self.b)\n",
    "            step_size = loss_slope * lr\n",
    "            self.b = self.b - step_size\n",
    "            b_arr.append(self.b)\n",
    "\n",
    "            loss_slope_m =-2*np.sum((y -self.m*X.ravel() - self.b)*X)\n",
    "            step_size_m = loss_slope_m * lr\n",
    "            self.m = self.m - step_size_m\n",
    "            m_arr.append(self.m)\n",
    "            \n",
    "        print(\"Final VGD b:\", self.b)\n",
    "        print(\"Final VGD m:\", self.m)\n",
    "        return b_arr,m_arr\n"
   ]
  },
  {
   "cell_type": "code",
   "execution_count": 367,
   "id": "3216b3c7-4498-4781-9f18-4b68d0a40501",
   "metadata": {},
   "outputs": [
    {
     "name": "stdout",
     "output_type": "stream",
     "text": [
      "Final VGD b: -2.862961468967404e+17\n",
      "Final VGD m: -1.2910462060118725e+19\n"
     ]
    },
    {
     "data": {
      "text/plain": [
       "([np.float64(-208.23649557489313),\n",
       "  np.float64(-12303.641932766477),\n",
       "  np.float64(-578834.0711981934),\n",
       "  np.float64(-27114259.357296854),\n",
       "  np.float64(-1269993297.6944072),\n",
       "  np.float64(-59484560702.688705),\n",
       "  np.float64(-2786166525413.2666),\n",
       "  np.float64(-130499810516867.12),\n",
       "  np.float64(-6112413019565109.0),\n",
       "  np.float64(-2.862961468967404e+17)],\n",
       " [np.float64(-11644.11822738622),\n",
       "  np.float64(-557083.7781433737),\n",
       "  np.float64(-26104649.444726024),\n",
       "  np.float64(-1222713842.8225646),\n",
       "  np.float64(-57270071949.795395),\n",
       "  np.float64(-2682443243069.9688),\n",
       "  np.float64(-125641569438025.75),\n",
       "  np.float64(-5884860382487121.0),\n",
       "  np.float64(-2.7563792681196637e+17),\n",
       "  np.float64(-1.2910462060118725e+19)])"
      ]
     },
     "execution_count": 367,
     "metadata": {},
     "output_type": "execute_result"
    }
   ],
   "source": [
    "vgd = MyGD()\n",
    "vgd.fit(X,y,epochs = 10, lr = 0.05)"
   ]
  },
  {
   "cell_type": "code",
   "execution_count": null,
   "id": "016e7be8-2d00-4681-b2a0-d3ff5a5561cd",
   "metadata": {},
   "outputs": [],
   "source": []
  }
 ],
 "metadata": {
  "kernelspec": {
   "display_name": "Python 3 (ipykernel)",
   "language": "python",
   "name": "python3"
  },
  "language_info": {
   "codemirror_mode": {
    "name": "ipython",
    "version": 3
   },
   "file_extension": ".py",
   "mimetype": "text/x-python",
   "name": "python",
   "nbconvert_exporter": "python",
   "pygments_lexer": "ipython3",
   "version": "3.13.5"
  }
 },
 "nbformat": 4,
 "nbformat_minor": 5
}
